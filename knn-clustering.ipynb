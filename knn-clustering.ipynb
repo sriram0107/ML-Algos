{
 "metadata": {
  "language_info": {
   "codemirror_mode": {
    "name": "ipython",
    "version": 3
   },
   "file_extension": ".py",
   "mimetype": "text/x-python",
   "name": "python",
   "nbconvert_exporter": "python",
   "pygments_lexer": "ipython3",
   "version": "3.8.0-final"
  },
  "orig_nbformat": 2,
  "kernelspec": {
   "name": "python3",
   "display_name": "Python 3.8.0 64-bit",
   "metadata": {
    "interpreter": {
     "hash": "26375528012b96becbf5ae4216a74eea7b36f2f88f168c2e4d169dd09487f2b9"
    }
   }
  }
 },
 "nbformat": 4,
 "nbformat_minor": 2,
 "cells": [
  {
   "cell_type": "code",
   "execution_count": 4,
   "metadata": {},
   "outputs": [],
   "source": [
    "import pickle\n",
    "import sklearn\n",
    "import matplotlib.pyplot as plt\n",
    "import pandas as pd\n",
    "import numpy as np\n",
    "from sklearn.preprocessing import scale\n",
    "from sklearn.datasets import load_digits\n",
    "from sklearn.cluster import KMeans\n",
    "from sklearn import metrics"
   ]
  },
  {
   "cell_type": "code",
   "execution_count": 7,
   "metadata": {},
   "outputs": [],
   "source": [
    "digits = load_digits()\n",
    "data = scale(digits.data) #scale down to -1 to 1 to optimize\n",
    "y = digits.target\n",
    "k = 10 # no of clusters"
   ]
  },
  {
   "cell_type": "code",
   "execution_count": 8,
   "metadata": {},
   "outputs": [],
   "source": [
    "samples, features  = data.shape\n"
   ]
  },
  {
   "cell_type": "code",
   "execution_count": 13,
   "metadata": {},
   "outputs": [],
   "source": [
    "def bench_k_means(estimator,name,data):\n",
    "    estimator.fit(data)\n",
    "    print(name,estimator.inertia_,metrics.homogeneity_score(y,estimator.labels_),\n",
    "          metrics.completeness_score(y,estimator.labels_),metrics.v_measure_score(y,estimator.labels_),\n",
    "          metrics.adjusted_rand_score(y,estimator.labels_),metrics.adjusted_mutual_info_score(y,           estimator.labels_),metrics.silhouette_score(data,estimator.labels_, metric=\"euclidean\"))"
   ]
  },
  {
   "cell_type": "code",
   "execution_count": 15,
   "metadata": {},
   "outputs": [
    {
     "output_type": "stream",
     "name": "stdout",
     "text": [
      "1 69686.72494864684 0.6755341271900924 0.7157739163863366 0.6950721087309177 0.5604191378178836 0.6918998979833424 0.14686869920515186\n"
     ]
    }
   ],
   "source": [
    "model = KMeans(n_clusters=k, init=\"k-means++\", n_init=10)\n",
    "bench_k_means(model,\"1\",data)"
   ]
  },
  {
   "cell_type": "code",
   "execution_count": null,
   "metadata": {},
   "outputs": [],
   "source": []
  }
 ]
}