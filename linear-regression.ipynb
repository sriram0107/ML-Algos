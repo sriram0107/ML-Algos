{
 "metadata": {
  "language_info": {
   "codemirror_mode": {
    "name": "ipython",
    "version": 3
   },
   "file_extension": ".py",
   "mimetype": "text/x-python",
   "name": "python",
   "nbconvert_exporter": "python",
   "pygments_lexer": "ipython3",
   "version": "3.8.0-final"
  },
  "orig_nbformat": 2,
  "kernelspec": {
   "name": "python3",
   "display_name": "Python 3.8.0 64-bit",
   "metadata": {
    "interpreter": {
     "hash": "26375528012b96becbf5ae4216a74eea7b36f2f88f168c2e4d169dd09487f2b9"
    }
   }
  }
 },
 "nbformat": 4,
 "nbformat_minor": 2,
 "cells": [
  {
   "cell_type": "code",
   "execution_count": 3,
   "metadata": {},
   "outputs": [],
   "source": [
    "import pandas as pd\n",
    "import pickle\n",
    "import matplotlib.pyplot as plt\n",
    "import numpy as np\n",
    "import sklearn \n",
    "from sklearn import linear_model\n",
    "from sklearn.utils import shuffle"
   ]
  },
  {
   "cell_type": "code",
   "execution_count": 35,
   "metadata": {},
   "outputs": [
    {
     "output_type": "stream",
     "name": "stdout",
     "text": [
      "   G1  G2  G3  studytime  age  failures  absences  freetime\n0   5   6   6          2   18         0         6         3\n1   5   5   6          2   17         0         4         3\n2   7   8  10          2   15         3        10         3\n3  15  14  15          3   15         0         2         2\n4   6  10  10          2   16         0         4         3\n"
     ]
    }
   ],
   "source": [
    "data = pd.read_csv('./uci-student/student-mat.csv',sep=';')\n",
    "data = data[[\"G1\",\"G2\",\"G3\",\"studytime\",\"age\",\"failures\",\"absences\",\"freetime\"]]\n",
    "print(data.head())"
   ]
  },
  {
   "cell_type": "code",
   "execution_count": 36,
   "metadata": {},
   "outputs": [],
   "source": [
    "predict = \"G3\" #ATTRIBUTE TO BE PREDICTED / LABEL"
   ]
  },
  {
   "cell_type": "code",
   "execution_count": 37,
   "metadata": {},
   "outputs": [],
   "source": [
    "x_data = np.array(data.drop([predict],1))\n",
    "y_data = np.array(data[predict])"
   ]
  },
  {
   "cell_type": "code",
   "execution_count": 38,
   "metadata": {},
   "outputs": [
    {
     "output_type": "execute_result",
     "data": {
      "text/plain": [
       "LinearRegression()"
      ]
     },
     "metadata": {},
     "execution_count": 38
    }
   ],
   "source": [
    "x_train,x_test,y_train,y_test = sklearn.model_selection.train_test_split(x_data,y_data,test_size=0.1)\n",
    "linear = linear_model.LinearRegression()\n",
    "linear.fit(x_train,y_train)"
   ]
  },
  {
   "cell_type": "code",
   "execution_count": 39,
   "metadata": {},
   "outputs": [
    {
     "output_type": "stream",
     "name": "stdout",
     "text": [
      "0.8397535128571528\n"
     ]
    }
   ],
   "source": [
    "accuracy = linear.score(x_test,y_test)\n",
    "print(accuracy)"
   ]
  },
  {
   "cell_type": "code",
   "execution_count": 42,
   "metadata": {},
   "outputs": [
    {
     "output_type": "stream",
     "name": "stdout",
     "text": [
      "co -  [ 0.16637095  0.96234682 -0.13813194 -0.21917087 -0.10883033  0.04799571\n  0.11880678]\nintercept -  1.6040372969938819\n"
     ]
    }
   ],
   "source": [
    "print(\"co - \" ,linear.coef_)\n",
    "print(\"intercept - \" ,linear.intercept_)"
   ]
  },
  {
   "cell_type": "code",
   "execution_count": null,
   "metadata": {},
   "outputs": [],
   "source": []
  }
 ]
}